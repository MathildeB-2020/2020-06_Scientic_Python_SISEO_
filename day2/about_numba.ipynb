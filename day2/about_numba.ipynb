{
 "cells": [
  {
   "cell_type": "markdown",
   "metadata": {},
   "source": [
    "# About Numba\n",
    "\n",
    "You can install numba using `conda install -c numba numba`\n",
    "\n",
    "Please read [this benchmark](https://jakevdp.github.io/blog/2013/06/15/numba-vs-cython-take-2/)\n"
   ]
  },
  {
   "cell_type": "code",
   "execution_count": 23,
   "metadata": {},
   "outputs": [],
   "source": [
    "import numba\n",
    "import numpy as np"
   ]
  },
  {
   "cell_type": "code",
   "execution_count": 24,
   "metadata": {},
   "outputs": [],
   "source": [
    "# Random points in a 3D space\n",
    "Np = 100\n",
    "points = np.random.rand(Np * 3).reshape(Np, 3)\n",
    "#points"
   ]
  },
  {
   "cell_type": "code",
   "execution_count": 25,
   "metadata": {},
   "outputs": [],
   "source": [
    "distance = np.zeros((Np, Np))\n",
    "\n",
    "#@numba.jit()\n",
    "def calc_distance(points, distance):\n",
    "    \"\"\"\n",
    "    Calculates the distance between every pair of points\n",
    "    \n",
    "    The algorithm is not optimal !\n",
    "    \"\"\"\n",
    "    Np = len(points)\n",
    "    for i in range(Np):\n",
    "        pi = points[i]\n",
    "        for j in range(Np):\n",
    "            pj = points[j]\n",
    "            d = ((pj - pi)**2).sum()**.5\n",
    "            distance[i,j] = d\n",
    "\n",
    "#calc_distance(points, distance)  \n",
    "calc_distance_numba = numba.jit(calc_distance)"
   ]
  },
  {
   "cell_type": "code",
   "execution_count": 26,
   "metadata": {},
   "outputs": [
    {
     "name": "stdout",
     "output_type": "stream",
     "text": [
      "74.4 ms ± 6.2 ms per loop (mean ± std. dev. of 7 runs, 10 loops each)\n"
     ]
    }
   ],
   "source": [
    "%timeit calc_distance(points, distance)"
   ]
  },
  {
   "cell_type": "code",
   "execution_count": 22,
   "metadata": {},
   "outputs": [
    {
     "name": "stdout",
     "output_type": "stream",
     "text": [
      "1.77 ms ± 132 µs per loop (mean ± std. dev. of 7 runs, 1000 loops each)\n"
     ]
    }
   ],
   "source": [
    "%timeit calc_distance_numba(points, distance)"
   ]
  },
  {
   "cell_type": "code",
   "execution_count": null,
   "metadata": {},
   "outputs": [],
   "source": []
  }
 ],
 "metadata": {
  "kernelspec": {
   "display_name": "Python 3",
   "language": "python",
   "name": "python3"
  },
  "language_info": {
   "codemirror_mode": {
    "name": "ipython",
    "version": 3
   },
   "file_extension": ".py",
   "mimetype": "text/x-python",
   "name": "python",
   "nbconvert_exporter": "python",
   "pygments_lexer": "ipython3",
   "version": "3.7.7"
  }
 },
 "nbformat": 4,
 "nbformat_minor": 4
}
