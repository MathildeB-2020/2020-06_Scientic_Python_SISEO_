{
 "cells": [
  {
   "cell_type": "markdown",
   "metadata": {},
   "source": [
    "# Some applications with Scipy\n",
    "\n",
    "Ref.: [Scipy doc](https://docs.scipy.org/doc/scipy/reference/)"
   ]
  },
  {
   "cell_type": "code",
   "execution_count": 1,
   "metadata": {},
   "outputs": [],
   "source": [
    "%matplotlib notebook\n",
    "from scipy import integrate\n",
    "import numpy as np\n",
    "import matplotlib.pyplot as plt"
   ]
  },
  {
   "cell_type": "markdown",
   "metadata": {},
   "source": [
    "## Planet simulation using gravity\n",
    "\n",
    "Let's consider two bodies (planets) with respective mass $m_1$ and $m_2$ at positions $P_1$ and $P_2$. Planet 2 will apply a force on planet 1 as follows:\n",
    "\n",
    "$$\n",
    "\\vec F_{2\\rightarrow 1} = G \\times \\dfrac{m_1 m_2}{r^2} \\vec u_{12}\n",
    "$$\n",
    "\n",
    "Where:\n",
    "\n",
    "* $G$ is the gravitational constant,\n",
    "* and $\\vec u_{12}$ is a unit vector coming from $P_1$ and going to $P_2$"
   ]
  },
  {
   "cell_type": "markdown",
   "metadata": {},
   "source": [
    "So the acceleration of planet $i$ caused by other planets will be:\n",
    "\n",
    "$$\n",
    "\\vec A(i/0) = \\sum_{j\\neq i} G \\times \\dfrac{m_j}{r_{ij}^2} \\vec u_{ij}\n",
    "$$\n",
    "\n",
    "Let's assume that the position of the planet $i$ is:"
   ]
  },
  {
   "cell_type": "markdown",
   "metadata": {},
   "source": [
    "$$\n",
    "\\vec{OP_i} = \\begin{bmatrix} x_i \\\\ y_i \\\\ z_i \\end{bmatrix}\n",
    "$$\n",
    "\n",
    "The speed is:\n",
    "\n",
    "$$\n",
    "\\vec V(i/0) = \\begin{bmatrix} \\dot x_i \\\\ \\dot y_i \\\\ \\dot z_i \\end{bmatrix}\n",
    "$$\n",
    "\n",
    "The acceleration is:\n",
    "\n",
    "$$\n",
    "\\vec A(i/0) = \\begin{bmatrix} \\ddot x_i \\\\ \\ddot y_i \\\\ \\ddot z_i \\end{bmatrix}\n",
    "$$"
   ]
  },
  {
   "cell_type": "code",
   "execution_count": null,
   "metadata": {},
   "outputs": [],
   "source": []
  },
  {
   "cell_type": "code",
   "execution_count": null,
   "metadata": {},
   "outputs": [],
   "source": []
  }
 ],
 "metadata": {
  "kernelspec": {
   "display_name": "Python 3",
   "language": "python",
   "name": "python3"
  },
  "language_info": {
   "codemirror_mode": {
    "name": "ipython",
    "version": 3
   },
   "file_extension": ".py",
   "mimetype": "text/x-python",
   "name": "python",
   "nbconvert_exporter": "python",
   "pygments_lexer": "ipython3",
   "version": "3.7.7"
  }
 },
 "nbformat": 4,
 "nbformat_minor": 4
}
