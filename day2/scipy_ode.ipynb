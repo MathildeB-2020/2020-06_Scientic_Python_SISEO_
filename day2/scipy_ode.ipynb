{
 "cells": [
  {
   "cell_type": "markdown",
   "metadata": {},
   "source": [
    "# Some applications with Scipy\n",
    "\n",
    "Ref.: [Scipy doc](https://docs.scipy.org/doc/scipy/reference/)"
   ]
  },
  {
   "cell_type": "code",
   "execution_count": 1,
   "metadata": {},
   "outputs": [],
   "source": [
    "%matplotlib notebook\n",
    "from scipy import integrate\n",
    "import numpy as np\n",
    "import matplotlib.pyplot as plt"
   ]
  },
  {
   "cell_type": "markdown",
   "metadata": {},
   "source": [
    "## Planet simulation using gravity\n",
    "\n",
    "Let's consider two bodies (planets) with respective mass $m_1$ and $m_2$ at positions $P_1$ and $P_2$. Planet 2 will apply a force on planet 1 as follows:\n",
    "\n",
    "$$\n",
    "\\vec F_{2\\rightarrow 1} = G \\times \\dfrac{m_1 m_2}{r^2} \\vec u_{12}\n",
    "$$\n",
    "\n",
    "Where:\n",
    "\n",
    "* $G$ is the gravitational constant,\n",
    "* and $\\vec u_{12}$ is a unit vector coming from $P_1$ and going to $P_2$"
   ]
  },
  {
   "cell_type": "markdown",
   "metadata": {},
   "source": [
    "So the acceleration of planet $i$ caused by other planets will be:\n",
    "\n",
    "$$\n",
    "\\vec A(i/0) = \\sum_{j\\neq i} G \\times \\dfrac{m_j}{r_{ij}^2} \\vec u_{ij}\n",
    "$$\n",
    "\n",
    "Let's assume that the position of the planet $i$ is:"
   ]
  },
  {
   "cell_type": "markdown",
   "metadata": {},
   "source": [
    "$$\n",
    "\\vec{OP_i} = \\begin{bmatrix} x_i \\\\ y_i \\\\ z_i \\end{bmatrix}\n",
    "$$\n",
    "\n",
    "The speed is:\n",
    "\n",
    "$$\n",
    "\\vec V(i/0) = \\begin{bmatrix} \\dot x_i \\\\ \\dot y_i \\\\ \\dot z_i \\end{bmatrix}\n",
    "$$\n",
    "\n",
    "The acceleration is:\n",
    "\n",
    "$$\n",
    "\\vec A(i/0) = \\begin{bmatrix} \\ddot x_i \\\\ \\ddot y_i \\\\ \\ddot z_i \\end{bmatrix}\n",
    "$$"
   ]
  },
  {
   "cell_type": "markdown",
   "metadata": {},
   "source": [
    "So the differential equations we need to solve:\n",
    "\n",
    "$$\n",
    "\\begin{bmatrix} \\ddot x_i \\\\ \\ddot y_i \\\\ \\ddot z_i \\end{bmatrix}\n",
    "=\n",
    "G \\sum_{j\\neq i}  \\dfrac{m_j}{r_{ij}^2} \\vec u_{ij}  \n",
    "$$\n",
    "\n",
    "With:\n",
    "* $r_{ij}^2 = (x_i - x_j)^2 + (y_i - y_j)^2 +  (z_i - z_j)^2  $ \n",
    "* and:\n",
    "\n",
    "$$\n",
    "u_{ij} = \\dfrac{\\vec {P_iP_j}}{ r_{ij}}\n",
    "$$\n"
   ]
  },
  {
   "cell_type": "markdown",
   "metadata": {},
   "source": [
    "In order to solve the equation numerically, we have to rewrite it as a first order equation in the form:\n",
    "\n",
    "$$\n",
    "\\dot X = f(X, t)\n",
    "$$\n",
    "\n",
    "Here:\n",
    "$$\n",
    "X = \\begin{bmatrix} x_0 \\\\ y_0 \\\\ z_0 \\\\ \\ldots \\\\ x_{N-1} \\\\ y_{N-1} \\\\ z_{N-1} \\\\ \n",
    "    \\dot x_0 \\\\ \\dot y_0 \\\\ \\dot z_0 \\\\ \\ldots \\\\ \\dot x_{N-1} \\\\ \\dot y_{N-1} \\\\ \\dot z_{N-1}\n",
    "    \\end{bmatrix}\n",
    "$$\n",
    "\n",
    "So \n",
    "\n",
    "$$\n",
    "\\dot X = \\begin{bmatrix} \n",
    "    \\dot x_0 \\\\ \\dot y_0 \\\\ \\dot z_0 \\\\ \\ldots \\\\ \\dot x_{N-1} \\\\ \\dot y_{N-1} \\\\ \\dot z_{N-1} \\\\\n",
    "    \\ddot x_0 \\\\ \\ddot y_0 \\\\ \\ddot z_0 \\\\ \\ldots \\\\ \\ddot x_{N-1} \\\\ \\ddot y_{N-1} \\\\ \\ddot z_{N-1}\n",
    "    \\end{bmatrix}\n",
    "$$\n",
    "\n",
    "Let's code it:"
   ]
  },
  {
   "cell_type": "code",
   "execution_count": null,
   "metadata": {},
   "outputs": [],
   "source": []
  },
  {
   "cell_type": "code",
   "execution_count": null,
   "metadata": {},
   "outputs": [],
   "source": []
  }
 ],
 "metadata": {
  "kernelspec": {
   "display_name": "Python 3",
   "language": "python",
   "name": "python3"
  },
  "language_info": {
   "codemirror_mode": {
    "name": "ipython",
    "version": 3
   },
   "file_extension": ".py",
   "mimetype": "text/x-python",
   "name": "python",
   "nbconvert_exporter": "python",
   "pygments_lexer": "ipython3",
   "version": "3.7.7"
  }
 },
 "nbformat": 4,
 "nbformat_minor": 4
}
